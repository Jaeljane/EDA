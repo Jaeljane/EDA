{
  "nbformat": 4,
  "nbformat_minor": 0,
  "metadata": {
    "colab": {
      "name": "Visualizations.ipynb",
      "provenance": [],
      "authorship_tag": "ABX9TyPLvlCpzOH/dAlunfKCvjm5",
      "include_colab_link": true
    },
    "kernelspec": {
      "name": "python3",
      "display_name": "Python 3"
    },
    "language_info": {
      "name": "python"
    }
  },
  "cells": [
    {
      "cell_type": "markdown",
      "metadata": {
        "id": "view-in-github",
        "colab_type": "text"
      },
      "source": [
        "<a href=\"https://colab.research.google.com/github/Jaeljane/EDA/blob/main/Visualizations.ipynb\" target=\"_parent\"><img src=\"https://colab.research.google.com/assets/colab-badge.svg\" alt=\"Open In Colab\"/></a>"
      ]
    },
    {
      "cell_type": "code",
      "execution_count": 1,
      "metadata": {
        "id": "Qrdr387B-GOO"
      },
      "outputs": [],
      "source": [
        "import pandas as pd\n",
        "import numpy as np\n",
        "import seaborn as sns\n",
        "import matplotlib.pyplot as plt\n",
        "%matplotlib inline"
      ]
    },
    {
      "cell_type": "code",
      "source": [
        "df=pd.read_csv('/content/pokemon.csv')\n",
        "df.head()"
      ],
      "metadata": {
        "colab": {
          "base_uri": "https://localhost:8080/",
          "height": 206
        },
        "id": "_lrmMBdT-nVj",
        "outputId": "466c64c3-ff20-4588-aafd-4c829adcc2ff"
      },
      "execution_count": 2,
      "outputs": [
        {
          "output_type": "execute_result",
          "data": {
            "text/plain": [
              "   id     species  generation_id  height  weight  base_experience type_1  \\\n",
              "0   1   bulbasaur              1     0.7     6.9               64  grass   \n",
              "1   2     ivysaur              1     1.0    13.0              142  grass   \n",
              "2   3    venusaur              1     2.0   100.0              236  grass   \n",
              "3   4  charmander              1     0.6     8.5               62   fire   \n",
              "4   5  charmeleon              1     1.1    19.0              142   fire   \n",
              "\n",
              "   type_2  hp  attack  defense  speed  special-attack  special-defense  \n",
              "0  poison  45      49       49     45              65               65  \n",
              "1  poison  60      62       63     60              80               80  \n",
              "2  poison  80      82       83     80             100              100  \n",
              "3     NaN  39      52       43     65              60               50  \n",
              "4     NaN  58      64       58     80              80               65  "
            ],
            "text/html": [
              "\n",
              "  <div id=\"df-ec58af4b-a63b-42d4-ad88-c444af13a72e\">\n",
              "    <div class=\"colab-df-container\">\n",
              "      <div>\n",
              "<style scoped>\n",
              "    .dataframe tbody tr th:only-of-type {\n",
              "        vertical-align: middle;\n",
              "    }\n",
              "\n",
              "    .dataframe tbody tr th {\n",
              "        vertical-align: top;\n",
              "    }\n",
              "\n",
              "    .dataframe thead th {\n",
              "        text-align: right;\n",
              "    }\n",
              "</style>\n",
              "<table border=\"1\" class=\"dataframe\">\n",
              "  <thead>\n",
              "    <tr style=\"text-align: right;\">\n",
              "      <th></th>\n",
              "      <th>id</th>\n",
              "      <th>species</th>\n",
              "      <th>generation_id</th>\n",
              "      <th>height</th>\n",
              "      <th>weight</th>\n",
              "      <th>base_experience</th>\n",
              "      <th>type_1</th>\n",
              "      <th>type_2</th>\n",
              "      <th>hp</th>\n",
              "      <th>attack</th>\n",
              "      <th>defense</th>\n",
              "      <th>speed</th>\n",
              "      <th>special-attack</th>\n",
              "      <th>special-defense</th>\n",
              "    </tr>\n",
              "  </thead>\n",
              "  <tbody>\n",
              "    <tr>\n",
              "      <th>0</th>\n",
              "      <td>1</td>\n",
              "      <td>bulbasaur</td>\n",
              "      <td>1</td>\n",
              "      <td>0.7</td>\n",
              "      <td>6.9</td>\n",
              "      <td>64</td>\n",
              "      <td>grass</td>\n",
              "      <td>poison</td>\n",
              "      <td>45</td>\n",
              "      <td>49</td>\n",
              "      <td>49</td>\n",
              "      <td>45</td>\n",
              "      <td>65</td>\n",
              "      <td>65</td>\n",
              "    </tr>\n",
              "    <tr>\n",
              "      <th>1</th>\n",
              "      <td>2</td>\n",
              "      <td>ivysaur</td>\n",
              "      <td>1</td>\n",
              "      <td>1.0</td>\n",
              "      <td>13.0</td>\n",
              "      <td>142</td>\n",
              "      <td>grass</td>\n",
              "      <td>poison</td>\n",
              "      <td>60</td>\n",
              "      <td>62</td>\n",
              "      <td>63</td>\n",
              "      <td>60</td>\n",
              "      <td>80</td>\n",
              "      <td>80</td>\n",
              "    </tr>\n",
              "    <tr>\n",
              "      <th>2</th>\n",
              "      <td>3</td>\n",
              "      <td>venusaur</td>\n",
              "      <td>1</td>\n",
              "      <td>2.0</td>\n",
              "      <td>100.0</td>\n",
              "      <td>236</td>\n",
              "      <td>grass</td>\n",
              "      <td>poison</td>\n",
              "      <td>80</td>\n",
              "      <td>82</td>\n",
              "      <td>83</td>\n",
              "      <td>80</td>\n",
              "      <td>100</td>\n",
              "      <td>100</td>\n",
              "    </tr>\n",
              "    <tr>\n",
              "      <th>3</th>\n",
              "      <td>4</td>\n",
              "      <td>charmander</td>\n",
              "      <td>1</td>\n",
              "      <td>0.6</td>\n",
              "      <td>8.5</td>\n",
              "      <td>62</td>\n",
              "      <td>fire</td>\n",
              "      <td>NaN</td>\n",
              "      <td>39</td>\n",
              "      <td>52</td>\n",
              "      <td>43</td>\n",
              "      <td>65</td>\n",
              "      <td>60</td>\n",
              "      <td>50</td>\n",
              "    </tr>\n",
              "    <tr>\n",
              "      <th>4</th>\n",
              "      <td>5</td>\n",
              "      <td>charmeleon</td>\n",
              "      <td>1</td>\n",
              "      <td>1.1</td>\n",
              "      <td>19.0</td>\n",
              "      <td>142</td>\n",
              "      <td>fire</td>\n",
              "      <td>NaN</td>\n",
              "      <td>58</td>\n",
              "      <td>64</td>\n",
              "      <td>58</td>\n",
              "      <td>80</td>\n",
              "      <td>80</td>\n",
              "      <td>65</td>\n",
              "    </tr>\n",
              "  </tbody>\n",
              "</table>\n",
              "</div>\n",
              "      <button class=\"colab-df-convert\" onclick=\"convertToInteractive('df-ec58af4b-a63b-42d4-ad88-c444af13a72e')\"\n",
              "              title=\"Convert this dataframe to an interactive table.\"\n",
              "              style=\"display:none;\">\n",
              "        \n",
              "  <svg xmlns=\"http://www.w3.org/2000/svg\" height=\"24px\"viewBox=\"0 0 24 24\"\n",
              "       width=\"24px\">\n",
              "    <path d=\"M0 0h24v24H0V0z\" fill=\"none\"/>\n",
              "    <path d=\"M18.56 5.44l.94 2.06.94-2.06 2.06-.94-2.06-.94-.94-2.06-.94 2.06-2.06.94zm-11 1L8.5 8.5l.94-2.06 2.06-.94-2.06-.94L8.5 2.5l-.94 2.06-2.06.94zm10 10l.94 2.06.94-2.06 2.06-.94-2.06-.94-.94-2.06-.94 2.06-2.06.94z\"/><path d=\"M17.41 7.96l-1.37-1.37c-.4-.4-.92-.59-1.43-.59-.52 0-1.04.2-1.43.59L10.3 9.45l-7.72 7.72c-.78.78-.78 2.05 0 2.83L4 21.41c.39.39.9.59 1.41.59.51 0 1.02-.2 1.41-.59l7.78-7.78 2.81-2.81c.8-.78.8-2.07 0-2.86zM5.41 20L4 18.59l7.72-7.72 1.47 1.35L5.41 20z\"/>\n",
              "  </svg>\n",
              "      </button>\n",
              "      \n",
              "  <style>\n",
              "    .colab-df-container {\n",
              "      display:flex;\n",
              "      flex-wrap:wrap;\n",
              "      gap: 12px;\n",
              "    }\n",
              "\n",
              "    .colab-df-convert {\n",
              "      background-color: #E8F0FE;\n",
              "      border: none;\n",
              "      border-radius: 50%;\n",
              "      cursor: pointer;\n",
              "      display: none;\n",
              "      fill: #1967D2;\n",
              "      height: 32px;\n",
              "      padding: 0 0 0 0;\n",
              "      width: 32px;\n",
              "    }\n",
              "\n",
              "    .colab-df-convert:hover {\n",
              "      background-color: #E2EBFA;\n",
              "      box-shadow: 0px 1px 2px rgba(60, 64, 67, 0.3), 0px 1px 3px 1px rgba(60, 64, 67, 0.15);\n",
              "      fill: #174EA6;\n",
              "    }\n",
              "\n",
              "    [theme=dark] .colab-df-convert {\n",
              "      background-color: #3B4455;\n",
              "      fill: #D2E3FC;\n",
              "    }\n",
              "\n",
              "    [theme=dark] .colab-df-convert:hover {\n",
              "      background-color: #434B5C;\n",
              "      box-shadow: 0px 1px 3px 1px rgba(0, 0, 0, 0.15);\n",
              "      filter: drop-shadow(0px 1px 2px rgba(0, 0, 0, 0.3));\n",
              "      fill: #FFFFFF;\n",
              "    }\n",
              "  </style>\n",
              "\n",
              "      <script>\n",
              "        const buttonEl =\n",
              "          document.querySelector('#df-ec58af4b-a63b-42d4-ad88-c444af13a72e button.colab-df-convert');\n",
              "        buttonEl.style.display =\n",
              "          google.colab.kernel.accessAllowed ? 'block' : 'none';\n",
              "\n",
              "        async function convertToInteractive(key) {\n",
              "          const element = document.querySelector('#df-ec58af4b-a63b-42d4-ad88-c444af13a72e');\n",
              "          const dataTable =\n",
              "            await google.colab.kernel.invokeFunction('convertToInteractive',\n",
              "                                                     [key], {});\n",
              "          if (!dataTable) return;\n",
              "\n",
              "          const docLinkHtml = 'Like what you see? Visit the ' +\n",
              "            '<a target=\"_blank\" href=https://colab.research.google.com/notebooks/data_table.ipynb>data table notebook</a>'\n",
              "            + ' to learn more about interactive tables.';\n",
              "          element.innerHTML = '';\n",
              "          dataTable['output_type'] = 'display_data';\n",
              "          await google.colab.output.renderOutput(dataTable, element);\n",
              "          const docLink = document.createElement('div');\n",
              "          docLink.innerHTML = docLinkHtml;\n",
              "          element.appendChild(docLink);\n",
              "        }\n",
              "      </script>\n",
              "    </div>\n",
              "  </div>\n",
              "  "
            ]
          },
          "metadata": {},
          "execution_count": 2
        }
      ]
    },
    {
      "cell_type": "code",
      "source": [
        "df.info()"
      ],
      "metadata": {
        "colab": {
          "base_uri": "https://localhost:8080/"
        },
        "id": "X3aszgy--wCE",
        "outputId": "61de9288-a611-4eeb-e39e-d1307c6daa85"
      },
      "execution_count": 3,
      "outputs": [
        {
          "output_type": "stream",
          "name": "stdout",
          "text": [
            "<class 'pandas.core.frame.DataFrame'>\n",
            "RangeIndex: 807 entries, 0 to 806\n",
            "Data columns (total 14 columns):\n",
            " #   Column           Non-Null Count  Dtype  \n",
            "---  ------           --------------  -----  \n",
            " 0   id               807 non-null    int64  \n",
            " 1   species          807 non-null    object \n",
            " 2   generation_id    807 non-null    int64  \n",
            " 3   height           807 non-null    float64\n",
            " 4   weight           807 non-null    float64\n",
            " 5   base_experience  807 non-null    int64  \n",
            " 6   type_1           807 non-null    object \n",
            " 7   type_2           405 non-null    object \n",
            " 8   hp               807 non-null    int64  \n",
            " 9   attack           807 non-null    int64  \n",
            " 10  defense          807 non-null    int64  \n",
            " 11  speed            807 non-null    int64  \n",
            " 12  special-attack   807 non-null    int64  \n",
            " 13  special-defense  807 non-null    int64  \n",
            "dtypes: float64(2), int64(9), object(3)\n",
            "memory usage: 88.4+ KB\n"
          ]
        }
      ]
    },
    {
      "cell_type": "code",
      "source": [
        "df.describe()"
      ],
      "metadata": {
        "colab": {
          "base_uri": "https://localhost:8080/",
          "height": 300
        },
        "id": "3NHykcZN-7sc",
        "outputId": "7830fbed-9046-4bd7-ca36-9581bb245048"
      },
      "execution_count": 4,
      "outputs": [
        {
          "output_type": "execute_result",
          "data": {
            "text/plain": [
              "               id  generation_id      height      weight  base_experience  \\\n",
              "count  807.000000     807.000000  807.000000  807.000000       807.000000   \n",
              "mean   404.000000       3.714994    1.162454   61.771128       144.848823   \n",
              "std    233.105126       1.944148    1.081030  111.519355        74.953116   \n",
              "min      1.000000       1.000000    0.100000    0.100000        36.000000   \n",
              "25%    202.500000       2.000000    0.600000    9.000000        66.000000   \n",
              "50%    404.000000       4.000000    1.000000   27.000000       151.000000   \n",
              "75%    605.500000       5.000000    1.500000   63.000000       179.500000   \n",
              "max    807.000000       7.000000   14.500000  999.900000       608.000000   \n",
              "\n",
              "               hp      attack     defense       speed  special-attack  \\\n",
              "count  807.000000  807.000000  807.000000  807.000000      807.000000   \n",
              "mean    68.748451   76.086741   71.726146   65.830235       69.486989   \n",
              "std     26.032808   29.544598   29.730228   27.736838       29.439715   \n",
              "min      1.000000    5.000000    5.000000    5.000000       10.000000   \n",
              "25%     50.000000   55.000000   50.000000   45.000000       45.000000   \n",
              "50%     65.000000   75.000000   67.000000   65.000000       65.000000   \n",
              "75%     80.000000   95.000000   89.000000   85.000000       90.000000   \n",
              "max    255.000000  181.000000  230.000000  160.000000      173.000000   \n",
              "\n",
              "       special-defense  \n",
              "count       807.000000  \n",
              "mean         70.013631  \n",
              "std          27.292344  \n",
              "min          20.000000  \n",
              "25%          50.000000  \n",
              "50%          65.000000  \n",
              "75%          85.000000  \n",
              "max         230.000000  "
            ],
            "text/html": [
              "\n",
              "  <div id=\"df-615648ac-13af-440b-a755-5ea26692fb5d\">\n",
              "    <div class=\"colab-df-container\">\n",
              "      <div>\n",
              "<style scoped>\n",
              "    .dataframe tbody tr th:only-of-type {\n",
              "        vertical-align: middle;\n",
              "    }\n",
              "\n",
              "    .dataframe tbody tr th {\n",
              "        vertical-align: top;\n",
              "    }\n",
              "\n",
              "    .dataframe thead th {\n",
              "        text-align: right;\n",
              "    }\n",
              "</style>\n",
              "<table border=\"1\" class=\"dataframe\">\n",
              "  <thead>\n",
              "    <tr style=\"text-align: right;\">\n",
              "      <th></th>\n",
              "      <th>id</th>\n",
              "      <th>generation_id</th>\n",
              "      <th>height</th>\n",
              "      <th>weight</th>\n",
              "      <th>base_experience</th>\n",
              "      <th>hp</th>\n",
              "      <th>attack</th>\n",
              "      <th>defense</th>\n",
              "      <th>speed</th>\n",
              "      <th>special-attack</th>\n",
              "      <th>special-defense</th>\n",
              "    </tr>\n",
              "  </thead>\n",
              "  <tbody>\n",
              "    <tr>\n",
              "      <th>count</th>\n",
              "      <td>807.000000</td>\n",
              "      <td>807.000000</td>\n",
              "      <td>807.000000</td>\n",
              "      <td>807.000000</td>\n",
              "      <td>807.000000</td>\n",
              "      <td>807.000000</td>\n",
              "      <td>807.000000</td>\n",
              "      <td>807.000000</td>\n",
              "      <td>807.000000</td>\n",
              "      <td>807.000000</td>\n",
              "      <td>807.000000</td>\n",
              "    </tr>\n",
              "    <tr>\n",
              "      <th>mean</th>\n",
              "      <td>404.000000</td>\n",
              "      <td>3.714994</td>\n",
              "      <td>1.162454</td>\n",
              "      <td>61.771128</td>\n",
              "      <td>144.848823</td>\n",
              "      <td>68.748451</td>\n",
              "      <td>76.086741</td>\n",
              "      <td>71.726146</td>\n",
              "      <td>65.830235</td>\n",
              "      <td>69.486989</td>\n",
              "      <td>70.013631</td>\n",
              "    </tr>\n",
              "    <tr>\n",
              "      <th>std</th>\n",
              "      <td>233.105126</td>\n",
              "      <td>1.944148</td>\n",
              "      <td>1.081030</td>\n",
              "      <td>111.519355</td>\n",
              "      <td>74.953116</td>\n",
              "      <td>26.032808</td>\n",
              "      <td>29.544598</td>\n",
              "      <td>29.730228</td>\n",
              "      <td>27.736838</td>\n",
              "      <td>29.439715</td>\n",
              "      <td>27.292344</td>\n",
              "    </tr>\n",
              "    <tr>\n",
              "      <th>min</th>\n",
              "      <td>1.000000</td>\n",
              "      <td>1.000000</td>\n",
              "      <td>0.100000</td>\n",
              "      <td>0.100000</td>\n",
              "      <td>36.000000</td>\n",
              "      <td>1.000000</td>\n",
              "      <td>5.000000</td>\n",
              "      <td>5.000000</td>\n",
              "      <td>5.000000</td>\n",
              "      <td>10.000000</td>\n",
              "      <td>20.000000</td>\n",
              "    </tr>\n",
              "    <tr>\n",
              "      <th>25%</th>\n",
              "      <td>202.500000</td>\n",
              "      <td>2.000000</td>\n",
              "      <td>0.600000</td>\n",
              "      <td>9.000000</td>\n",
              "      <td>66.000000</td>\n",
              "      <td>50.000000</td>\n",
              "      <td>55.000000</td>\n",
              "      <td>50.000000</td>\n",
              "      <td>45.000000</td>\n",
              "      <td>45.000000</td>\n",
              "      <td>50.000000</td>\n",
              "    </tr>\n",
              "    <tr>\n",
              "      <th>50%</th>\n",
              "      <td>404.000000</td>\n",
              "      <td>4.000000</td>\n",
              "      <td>1.000000</td>\n",
              "      <td>27.000000</td>\n",
              "      <td>151.000000</td>\n",
              "      <td>65.000000</td>\n",
              "      <td>75.000000</td>\n",
              "      <td>67.000000</td>\n",
              "      <td>65.000000</td>\n",
              "      <td>65.000000</td>\n",
              "      <td>65.000000</td>\n",
              "    </tr>\n",
              "    <tr>\n",
              "      <th>75%</th>\n",
              "      <td>605.500000</td>\n",
              "      <td>5.000000</td>\n",
              "      <td>1.500000</td>\n",
              "      <td>63.000000</td>\n",
              "      <td>179.500000</td>\n",
              "      <td>80.000000</td>\n",
              "      <td>95.000000</td>\n",
              "      <td>89.000000</td>\n",
              "      <td>85.000000</td>\n",
              "      <td>90.000000</td>\n",
              "      <td>85.000000</td>\n",
              "    </tr>\n",
              "    <tr>\n",
              "      <th>max</th>\n",
              "      <td>807.000000</td>\n",
              "      <td>7.000000</td>\n",
              "      <td>14.500000</td>\n",
              "      <td>999.900000</td>\n",
              "      <td>608.000000</td>\n",
              "      <td>255.000000</td>\n",
              "      <td>181.000000</td>\n",
              "      <td>230.000000</td>\n",
              "      <td>160.000000</td>\n",
              "      <td>173.000000</td>\n",
              "      <td>230.000000</td>\n",
              "    </tr>\n",
              "  </tbody>\n",
              "</table>\n",
              "</div>\n",
              "      <button class=\"colab-df-convert\" onclick=\"convertToInteractive('df-615648ac-13af-440b-a755-5ea26692fb5d')\"\n",
              "              title=\"Convert this dataframe to an interactive table.\"\n",
              "              style=\"display:none;\">\n",
              "        \n",
              "  <svg xmlns=\"http://www.w3.org/2000/svg\" height=\"24px\"viewBox=\"0 0 24 24\"\n",
              "       width=\"24px\">\n",
              "    <path d=\"M0 0h24v24H0V0z\" fill=\"none\"/>\n",
              "    <path d=\"M18.56 5.44l.94 2.06.94-2.06 2.06-.94-2.06-.94-.94-2.06-.94 2.06-2.06.94zm-11 1L8.5 8.5l.94-2.06 2.06-.94-2.06-.94L8.5 2.5l-.94 2.06-2.06.94zm10 10l.94 2.06.94-2.06 2.06-.94-2.06-.94-.94-2.06-.94 2.06-2.06.94z\"/><path d=\"M17.41 7.96l-1.37-1.37c-.4-.4-.92-.59-1.43-.59-.52 0-1.04.2-1.43.59L10.3 9.45l-7.72 7.72c-.78.78-.78 2.05 0 2.83L4 21.41c.39.39.9.59 1.41.59.51 0 1.02-.2 1.41-.59l7.78-7.78 2.81-2.81c.8-.78.8-2.07 0-2.86zM5.41 20L4 18.59l7.72-7.72 1.47 1.35L5.41 20z\"/>\n",
              "  </svg>\n",
              "      </button>\n",
              "      \n",
              "  <style>\n",
              "    .colab-df-container {\n",
              "      display:flex;\n",
              "      flex-wrap:wrap;\n",
              "      gap: 12px;\n",
              "    }\n",
              "\n",
              "    .colab-df-convert {\n",
              "      background-color: #E8F0FE;\n",
              "      border: none;\n",
              "      border-radius: 50%;\n",
              "      cursor: pointer;\n",
              "      display: none;\n",
              "      fill: #1967D2;\n",
              "      height: 32px;\n",
              "      padding: 0 0 0 0;\n",
              "      width: 32px;\n",
              "    }\n",
              "\n",
              "    .colab-df-convert:hover {\n",
              "      background-color: #E2EBFA;\n",
              "      box-shadow: 0px 1px 2px rgba(60, 64, 67, 0.3), 0px 1px 3px 1px rgba(60, 64, 67, 0.15);\n",
              "      fill: #174EA6;\n",
              "    }\n",
              "\n",
              "    [theme=dark] .colab-df-convert {\n",
              "      background-color: #3B4455;\n",
              "      fill: #D2E3FC;\n",
              "    }\n",
              "\n",
              "    [theme=dark] .colab-df-convert:hover {\n",
              "      background-color: #434B5C;\n",
              "      box-shadow: 0px 1px 3px 1px rgba(0, 0, 0, 0.15);\n",
              "      filter: drop-shadow(0px 1px 2px rgba(0, 0, 0, 0.3));\n",
              "      fill: #FFFFFF;\n",
              "    }\n",
              "  </style>\n",
              "\n",
              "      <script>\n",
              "        const buttonEl =\n",
              "          document.querySelector('#df-615648ac-13af-440b-a755-5ea26692fb5d button.colab-df-convert');\n",
              "        buttonEl.style.display =\n",
              "          google.colab.kernel.accessAllowed ? 'block' : 'none';\n",
              "\n",
              "        async function convertToInteractive(key) {\n",
              "          const element = document.querySelector('#df-615648ac-13af-440b-a755-5ea26692fb5d');\n",
              "          const dataTable =\n",
              "            await google.colab.kernel.invokeFunction('convertToInteractive',\n",
              "                                                     [key], {});\n",
              "          if (!dataTable) return;\n",
              "\n",
              "          const docLinkHtml = 'Like what you see? Visit the ' +\n",
              "            '<a target=\"_blank\" href=https://colab.research.google.com/notebooks/data_table.ipynb>data table notebook</a>'\n",
              "            + ' to learn more about interactive tables.';\n",
              "          element.innerHTML = '';\n",
              "          dataTable['output_type'] = 'display_data';\n",
              "          await google.colab.output.renderOutput(dataTable, element);\n",
              "          const docLink = document.createElement('div');\n",
              "          docLink.innerHTML = docLinkHtml;\n",
              "          element.appendChild(docLink);\n",
              "        }\n",
              "      </script>\n",
              "    </div>\n",
              "  </div>\n",
              "  "
            ]
          },
          "metadata": {},
          "execution_count": 4
        }
      ]
    },
    {
      "cell_type": "code",
      "source": [
        "bins = np.arange(0, df['height'].max()+0.2, 0.2)\n",
        "plt.hist(data = df, x = 'height', bins = bins)\n",
        "plt.xlim((0,6))"
      ],
      "metadata": {
        "colab": {
          "base_uri": "https://localhost:8080/",
          "height": 282
        },
        "id": "VoApyNbL-xcW",
        "outputId": "fc8dffef-ec98-4780-cd9d-cc2f82eb28dd"
      },
      "execution_count": 15,
      "outputs": [
        {
          "output_type": "execute_result",
          "data": {
            "text/plain": [
              "(0.0, 6.0)"
            ]
          },
          "metadata": {},
          "execution_count": 15
        },
        {
          "output_type": "display_data",
          "data": {
            "text/plain": [
              "<Figure size 432x288 with 1 Axes>"
            ],
            "image/png": "[encoded data removed]"
          },
          "metadata": {
            "needs_background": "light"
          }
        }
      ]
    },
    {
      "cell_type": "markdown",
      "source": [
        "Log transform the hist distribution of weight"
      ],
      "metadata": {
        "id": "uKgst-5p_Qtb"
      }
    },
    {
      "cell_type": "code",
      "source": [
        " #Get the ticks for bins between [0 - maximum weight]\n",
        "bins = 10 ** np.arange(-1, 3+0.1, 0.1)\n",
        "\n",
        "# Generate the x-ticks you want to apply\n",
        "ticks = [0.1, 0.3, 1, 3, 10, 30, 100, 300, 1000]\n",
        "# Convert ticks into string values, to be displaye dlong the x-axis\n",
        "labels = ['{}'.format(v) for v in ticks]\n",
        "\n",
        "# Plot the histogram\n",
        "plt.hist(data=df, x='weight', bins=bins);\n",
        "\n",
        "# The argument in the xscale() represents the axis scale type to apply.\n",
        "# The possible values are: {\"linear\", \"log\", \"symlog\", \"logit\", ...}\n",
        "plt.xscale('log')\n",
        "\n",
        "# Apply x-ticks\n",
        "plt.xticks(ticks, labels);"
      ],
      "metadata": {
        "colab": {
          "base_uri": "https://localhost:8080/",
          "height": 265
        },
        "id": "1ui36e9E_P28",
        "outputId": "86dac1bb-f307-4112-b31a-ddc237d57984"
      },
      "execution_count": 10,
      "outputs": [
        {
          "output_type": "display_data",
          "data": {
            "text/plain": [
              "<Figure size 432x288 with 1 Axes>"
            ],
            "image/png": "[encoded data removed]"
          },
          "metadata": {
            "needs_background": "light"
          }
        }
      ]
    },
    {
      "cell_type": "markdown",
      "source": [
        "Plot the Kernel Density Estimation (KDE)"
      ],
      "metadata": {
        "id": "Ciq_EOwQJ5Rq"
      }
    },
    {
      "cell_type": "code",
      "source": [
        "\n",
        "sns.distplot(df['speed']);"
      ],
      "metadata": {
        "colab": {
          "base_uri": "https://localhost:8080/",
          "height": 335
        },
        "id": "m317JMLw_CZZ",
        "outputId": "48aa5e4f-5659-4d1c-f526-b0cec4021226"
      },
      "execution_count": 18,
      "outputs": [
        {
          "output_type": "stream",
          "name": "stderr",
          "text": [
            "/usr/local/lib/python3.7/dist-packages/seaborn/distributions.py:2619: FutureWarning: `distplot` is a deprecated function and will be removed in a future version. Please adapt your code to use either `displot` (a figure-level function with similar flexibility) or `histplot` (an axes-level function for histograms).\n",
            "  warnings.warn(msg, FutureWarning)\n"
          ]
        },
        {
          "output_type": "display_data",
          "data": {
            "text/plain": [
              "<Figure size 432x288 with 1 Axes>"
            ],
            "image/png": "[encoded data removed]"
          },
          "metadata": {
            "needs_background": "light"
          }
        }
      ]
    },
    {
      "cell_type": "markdown",
      "source": [
        "##Scatter plot"
      ],
      "metadata": {
        "id": "UYSlilMCNW_E"
      }
    },
    {
      "cell_type": "code",
      "source": [
        ""
      ],
      "metadata": {
        "id": "s8WsC4VNKQQq"
      },
      "execution_count": 18,
      "outputs": []
    }
  ]
}